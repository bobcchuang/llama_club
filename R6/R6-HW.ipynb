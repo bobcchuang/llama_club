{
 "cells": [
  {
   "cell_type": "markdown",
   "metadata": {},
   "source": [
    "# R6: 回家作業\n",
    "- 請參考 Tutorial 的作業，將 LLM 的對話功能融合進 streamlit / Gradio 來作為使用者界面進行互動 "
   ]
  },
  {
   "cell_type": "code",
   "execution_count": null,
   "metadata": {},
   "outputs": [],
   "source": []
  }
 ],
 "metadata": {
  "language_info": {
   "name": "python"
  }
 },
 "nbformat": 4,
 "nbformat_minor": 2
}
